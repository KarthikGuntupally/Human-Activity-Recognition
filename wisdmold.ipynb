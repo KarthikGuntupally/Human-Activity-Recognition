{
  "nbformat": 4,
  "nbformat_minor": 0,
  "metadata": {
    "colab": {
      "provenance": []
    },
    "kernelspec": {
      "name": "python3",
      "display_name": "Python 3"
    },
    "language_info": {
      "name": "python"
    }
  },
  "cells": [
    {
      "cell_type": "code",
      "execution_count": null,
      "metadata": {
        "id": "xmFa-NMlvKb1",
        "colab": {
          "base_uri": "https://localhost:8080/"
        },
        "outputId": "f8276b75-cf87-4a55-b2d4-48640500975d"
      },
      "outputs": [
        {
          "output_type": "stream",
          "name": "stdout",
          "text": [
            "Mounted at /content/drive\n"
          ]
        }
      ],
      "source": [
        "from google.colab import drive\n",
        "drive.mount('/content/drive')\n"
      ]
    },
    {
      "cell_type": "code",
      "source": [
        "import pandas as pd\n",
        "import os\n",
        "\n",
        "folder_path = '/content/drive/MyDrive/WISDM---Biometric-time-series-data-classification-main/Datasets/train'\n",
        "\n",
        "files = [os.path.join(folder_path, file) for file in os.listdir(folder_path) if file.endswith('.txt')]\n",
        "\n",
        "data_frames = [pd.read_csv(file, header=None, names=['user', 'activity', 'x-accel', 'y-accel', 'z-accel'], sep=',', on_bad_lines='skip') for file in files]\n",
        "combined_data = pd.concat(data_frames, ignore_index=True)\n",
        "\n",
        "print(combined_data.head())\n"
      ],
      "metadata": {
        "colab": {
          "base_uri": "https://localhost:8080/"
        },
        "id": "L5Nk2jMOAj8k",
        "outputId": "6ab9b0b1-45f6-4499-f773-1af6812160b2"
      },
      "execution_count": null,
      "outputs": [
        {
          "output_type": "stream",
          "name": "stdout",
          "text": [
            "   user activity   x-accel   y-accel     z-accel\n",
            "0  1600        A  7.091625 -0.591667   8.195502;\n",
            "1  1600        A  4.972757 -0.158317  6.6967316;\n",
            "2  1600        A  3.253720 -0.191835   6.107758;\n",
            "3  1600        A  2.801216 -0.155922   5.997625;\n",
            "4  1600        A  3.770868 -1.051354   7.731027;\n"
          ]
        }
      ]
    },
    {
      "cell_type": "code",
      "source": [
        "import pandas as pd\n",
        "\n",
        "file_path = '/content/drive/MyDrive/WISDM---Biometric-time-series-data-classification-main/Datasets/test/test_data_accel_watch.txt'  # Adjust the path and file name accordingly\n",
        "\n",
        "test_data = pd.read_csv(file_path, header=None, names=[ 'user', 'x-accel', 'y-accel', 'z-accel'], sep=',',on_bad_lines='skip')\n",
        "print(test_data.head())\n",
        "\n"
      ],
      "metadata": {
        "colab": {
          "base_uri": "https://localhost:8080/"
        },
        "id": "856MpWUnBgsP",
        "outputId": "9eeb816a-9820-48f0-a4e0-acbbd7ed06cc"
      },
      "execution_count": null,
      "outputs": [
        {
          "output_type": "stream",
          "name": "stdout",
          "text": [
            "   user   x-accel   y-accel     z-accel\n",
            "0  1650  0.003142 -2.910451   9.310901;\n",
            "0  1650  0.024690 -2.735675    9.41864;\n",
            "0  1650 -0.068684 -2.862567   9.409063;\n",
            "0  1650 -0.032771 -2.728492  9.5910225;\n",
            "0  1650  0.094122 -2.903269   9.365968;\n"
          ]
        }
      ]
    },
    {
      "cell_type": "code",
      "source": [
        "def clean_data(data):\n",
        "    for col in ['x-accel', 'y-accel', 'z-accel']:\n",
        "        data[col] = data[col].astype(str).str.replace(';', '').astype(float)\n",
        "    return data\n",
        "\n",
        "combined_data = clean_data(combined_data)\n",
        "test_data = clean_data(test_data)"
      ],
      "metadata": {
        "id": "V41JleI_IHO4"
      },
      "execution_count": null,
      "outputs": []
    },
    {
      "cell_type": "markdown",
      "source": [
        "Logisitc regression"
      ],
      "metadata": {
        "id": "VOMemffohTDb"
      }
    },
    {
      "cell_type": "code",
      "source": [
        "import pandas as pd\n",
        "from sklearn.model_selection import train_test_split\n",
        "from sklearn.linear_model import LogisticRegression\n",
        "from sklearn.metrics import accuracy_score\n",
        "from sklearn.impute import SimpleImputer\n",
        "from sklearn.preprocessing import StandardScaler\n",
        "\n",
        "imputer = SimpleImputer(strategy='mean')\n",
        "scaler = StandardScaler()\n",
        "\n",
        "X = combined_data[['x-accel', 'y-accel', 'z-accel']]\n",
        "y = combined_data['activity']\n",
        "X_imputed = imputer.fit_transform(X)\n",
        "X_scaled = scaler.fit_transform(X_imputed)\n",
        "\n",
        "X_train, X_test, y_train, y_test = train_test_split(X_scaled, y, test_size=0.3, random_state=42)\n",
        "\n",
        "model = LogisticRegression(max_iter=1000)\n",
        "\n",
        "model.fit(X_train, y_train)\n",
        "y_pred = model.predict(X_test)\n",
        "\n",
        "accuracy = accuracy_score(y_test, y_pred)\n",
        "print(f\"Accuracy of the logistic regression model on the test set: {accuracy * 100:.2f}%\")\n"
      ],
      "metadata": {
        "colab": {
          "base_uri": "https://localhost:8080/"
        },
        "id": "Pc02QmHqJz5u",
        "outputId": "dd566d5b-b9f0-48d7-d844-311e3bae2ec3"
      },
      "execution_count": null,
      "outputs": [
        {
          "output_type": "stream",
          "name": "stdout",
          "text": [
            "Accuracy of the logistic regression model on the test set: 31.90%\n"
          ]
        }
      ]
    },
    {
      "cell_type": "code",
      "source": [
        "import pandas as pd\n",
        "from sklearn.linear_model import LogisticRegression\n",
        "from sklearn.impute import SimpleImputer\n",
        "from sklearn.preprocessing import StandardScaler\n",
        "\n",
        "imputer = SimpleImputer(strategy='mean')\n",
        "scaler = StandardScaler()\n",
        "\n",
        "X_train = combined_data[['x-accel', 'y-accel', 'z-accel']]\n",
        "y_train = combined_data['activity']\n",
        "X_train_imputed = imputer.fit_transform(X_train)\n",
        "X_train_scaled = scaler.fit_transform(X_train_imputed)\n",
        "\n",
        "X_test = test_data[['x-accel', 'y-accel', 'z-accel']]\n",
        "X_test_imputed = imputer.transform(X_test)\n",
        "X_test_scaled = scaler.transform(X_test_imputed)\n",
        "\n",
        "model = LogisticRegression(max_iter=1000)\n",
        "model.fit(X_train_scaled, y_train)\n",
        "\n",
        "y_pred = model.predict(X_test_scaled)\n",
        "\n",
        "print(\"Predicted Activities:\")\n",
        "print(y_pred)\n"
      ],
      "metadata": {
        "colab": {
          "base_uri": "https://localhost:8080/"
        },
        "id": "GKrhEcqKH3lU",
        "outputId": "d0d94603-e7da-4d57-aa5a-3b4dd524ab8f"
      },
      "execution_count": null,
      "outputs": [
        {
          "output_type": "stream",
          "name": "stdout",
          "text": [
            "Predicted Activities:\n",
            "['D' 'D' 'D' ... 'B' 'B' 'B']\n"
          ]
        }
      ]
    },
    {
      "cell_type": "markdown",
      "source": [
        "Decision Tree"
      ],
      "metadata": {
        "id": "yGx94ZaRhgEf"
      }
    },
    {
      "cell_type": "code",
      "source": [
        "import pandas as pd\n",
        "from sklearn.model_selection import train_test_split\n",
        "from sklearn.tree import DecisionTreeClassifier\n",
        "from sklearn.metrics import accuracy_score\n",
        "from sklearn.impute import SimpleImputer\n",
        "from sklearn.preprocessing import StandardScaler\n",
        "\n",
        "imputer = SimpleImputer(strategy='mean')\n",
        "scaler = StandardScaler()\n",
        "\n",
        "X = combined_data[['x-accel', 'y-accel', 'z-accel']]\n",
        "y = combined_data['activity']\n",
        "X_imputed = imputer.fit_transform(X)\n",
        "X_scaled = scaler.fit_transform(X_imputed)\n",
        "\n",
        "X_train, X_test, y_train, y_test = train_test_split(X_scaled, y, test_size=0.3, random_state=42)\n",
        "\n",
        "decision_tree_model = DecisionTreeClassifier(random_state=42)\n",
        "\n",
        "decision_tree_model.fit(X_train, y_train)\n",
        "\n",
        "y_pred = decision_tree_model.predict(X_test)\n",
        "\n",
        "accuracy = accuracy_score(y_test, y_pred)\n",
        "print(f\"Accuracy of the Decision Tree model on the test set: {accuracy * 100:.2f}%\")\n"
      ],
      "metadata": {
        "colab": {
          "base_uri": "https://localhost:8080/"
        },
        "id": "iz8laQGwKFR1",
        "outputId": "1c3812a0-6ca5-46c9-f20d-747d57c19860"
      },
      "execution_count": null,
      "outputs": [
        {
          "output_type": "stream",
          "name": "stdout",
          "text": [
            "Accuracy of the Decision Tree model on the test set: 53.88%\n"
          ]
        }
      ]
    },
    {
      "cell_type": "markdown",
      "source": [
        "Random Forest"
      ],
      "metadata": {
        "id": "3OSFTLWEhj6v"
      }
    },
    {
      "cell_type": "code",
      "source": [
        "import pandas as pd\n",
        "from sklearn.model_selection import train_test_split\n",
        "from sklearn.ensemble import RandomForestClassifier\n",
        "from sklearn.metrics import accuracy_score\n",
        "from sklearn.impute import SimpleImputer\n",
        "from sklearn.preprocessing import StandardScaler\n",
        "\n",
        "imputer = SimpleImputer(strategy='mean')\n",
        "scaler = StandardScaler()\n",
        "\n",
        "X = combined_data[['x-accel', 'y-accel', 'z-accel']]\n",
        "y = combined_data['activity']\n",
        "X_imputed = imputer.fit_transform(X)\n",
        "X_scaled = scaler.fit_transform(X_imputed)\n",
        "\n",
        "X_train, X_test, y_train, y_test = train_test_split(X_scaled, y, test_size=0.3, random_state=42)\n",
        "\n",
        "random_forest_model = RandomForestClassifier(n_estimators=100, random_state=42)\n",
        "\n",
        "random_forest_model.fit(X_train, y_train)\n",
        "\n",
        "y_pred = random_forest_model.predict(X_test)\n",
        "\n",
        "accuracy = accuracy_score(y_test, y_pred)\n",
        "print(f\"Accuracy of the Random Forest model on the test set: {accuracy * 100:.2f}%\")\n"
      ],
      "metadata": {
        "colab": {
          "base_uri": "https://localhost:8080/"
        },
        "id": "zBvICeb1KFOY",
        "outputId": "045d7b6e-735a-43ae-ff0f-5acc8b6bfd0d"
      },
      "execution_count": null,
      "outputs": [
        {
          "output_type": "stream",
          "name": "stdout",
          "text": [
            "Accuracy of the Random Forest model on the test set: 60.12%\n"
          ]
        }
      ]
    },
    {
      "cell_type": "code",
      "source": [
        "import numpy as np\n",
        "import pandas as pd\n",
        "from sklearn.model_selection import train_test_split\n",
        "from sklearn.preprocessing import StandardScaler, LabelEncoder\n",
        "from tensorflow.keras.models import Sequential\n",
        "from tensorflow.keras.layers import Dense, Conv1D, Flatten, Dropout\n",
        "from tensorflow.keras.utils import to_categorical\n",
        "from sklearn.impute import SimpleImputer\n",
        "\n",
        "imputer = SimpleImputer(strategy='mean')\n",
        "scaler = StandardScaler()\n",
        "\n",
        "X = combined_data[['x-accel', 'y-accel', 'z-accel']]\n",
        "y = combined_data['activity']\n",
        "X_imputed = imputer.fit_transform(X)\n",
        "X_scaled = scaler.fit_transform(X_imputed)\n",
        "X_scaled = np.expand_dims(X_scaled, axis=2)\n",
        "\n",
        "label_encoder = LabelEncoder()\n",
        "y_encoded = label_encoder.fit_transform(y)\n",
        "y_categorical = to_categorical(y_encoded)\n",
        "\n",
        "X_train, X_test, y_train, y_test = train_test_split(X_scaled, y_categorical, test_size=0.3, random_state=42)\n",
        "\n",
        "\n",
        "model = Sequential()\n",
        "model.add(Conv1D(filters=64, kernel_size=3, activation='relu', input_shape=(X_train.shape[1], 1)))\n",
        "model.add(Dropout(0.5))\n",
        "model.add(Flatten())\n",
        "model.add(Dense(100, activation='relu'))\n",
        "model.add(Dense(y_categorical.shape[1], activation='softmax'))\n",
        "\n",
        "model.compile(loss='categorical_crossentropy', optimizer='adam', metrics=['accuracy'])\n",
        "\n",
        "history = model.fit(X_train, y_train, epochs=10, validation_data=(X_test, y_test), verbose=1)\n",
        "\n",
        "_, accuracy = model.evaluate(X_test, y_test, verbose=0)\n",
        "print(f'Accuracy of the 1D CNN model on the test set: {accuracy * 100:.2f}%')\n"
      ],
      "metadata": {
        "colab": {
          "base_uri": "https://localhost:8080/"
        },
        "id": "Jej78TvNKFGO",
        "outputId": "fd8d486a-63a2-4f47-f767-b7fde6b1ba6e"
      },
      "execution_count": null,
      "outputs": [
        {
          "output_type": "stream",
          "name": "stdout",
          "text": [
            "Epoch 1/10\n",
            "16275/16275 [==============================] - 43s 3ms/step - loss: 1.2339 - accuracy: 0.5026 - val_loss: 1.1222 - val_accuracy: 0.5547\n",
            "Epoch 2/10\n",
            "16275/16275 [==============================] - 72s 4ms/step - loss: 1.1520 - accuracy: 0.5414 - val_loss: 1.1221 - val_accuracy: 0.5551\n",
            "Epoch 3/10\n",
            "16275/16275 [==============================] - 57s 4ms/step - loss: 1.1314 - accuracy: 0.5494 - val_loss: 1.1103 - val_accuracy: 0.5624\n",
            "Epoch 4/10\n",
            "16275/16275 [==============================] - 60s 4ms/step - loss: 1.1213 - accuracy: 0.5530 - val_loss: 1.0977 - val_accuracy: 0.5623\n",
            "Epoch 5/10\n",
            "16275/16275 [==============================] - 65s 4ms/step - loss: 1.1139 - accuracy: 0.5564 - val_loss: 1.0941 - val_accuracy: 0.5681\n",
            "Epoch 6/10\n",
            "16275/16275 [==============================] - 54s 3ms/step - loss: 1.1090 - accuracy: 0.5585 - val_loss: 1.0941 - val_accuracy: 0.5662\n",
            "Epoch 7/10\n",
            "16275/16275 [==============================] - 42s 3ms/step - loss: 1.1056 - accuracy: 0.5592 - val_loss: 1.0823 - val_accuracy: 0.5720\n",
            "Epoch 8/10\n",
            "16275/16275 [==============================] - 42s 3ms/step - loss: 1.1035 - accuracy: 0.5600 - val_loss: 1.0953 - val_accuracy: 0.5653\n",
            "Epoch 9/10\n",
            "16275/16275 [==============================] - 42s 3ms/step - loss: 1.0999 - accuracy: 0.5615 - val_loss: 1.0927 - val_accuracy: 0.5672\n",
            "Epoch 10/10\n",
            "16275/16275 [==============================] - 47s 3ms/step - loss: 1.0976 - accuracy: 0.5630 - val_loss: 1.0882 - val_accuracy: 0.5686\n",
            "Accuracy of the 1D CNN model on the test set: 56.86%\n"
          ]
        }
      ]
    },
    {
      "cell_type": "code",
      "source": [
        "from tensorflow.keras.layers import Conv1D, Input, Dense, Flatten, concatenate, MaxPooling1D, Dropout\n",
        "from tensorflow.keras.models import Model\n",
        "from tensorflow.keras.optimizers import Adam\n",
        "from tensorflow.keras.utils import to_categorical\n",
        "import numpy as np\n",
        "\n",
        "input_layer = Input(shape=(X_train.shape[1], 1))\n",
        "\n",
        "\n",
        "conv1 = Conv1D(filters=16, kernel_size=5, activation='elu', padding='same')(input_layer)\n",
        "conv1 = MaxPooling1D(pool_size=2)(conv1)\n",
        "\n",
        "conv2 = Conv1D(filters=32, kernel_size=3, activation='relu', padding='same')(input_layer)\n",
        "conv2 = MaxPooling1D(pool_size=2)(conv2)\n",
        "\n",
        "conv3 = Conv1D(filters=16, kernel_size=3, activation='elu', padding='same')(input_layer)\n",
        "conv3 = MaxPooling1D(pool_size=3)(conv3)\n",
        "\n",
        "merged = concatenate([conv1, conv2, conv3])\n",
        "\n",
        "conv4 = Conv1D(filters=16, kernel_size=5, activation='relu', padding='same')(merged)\n",
        "\n",
        "conv5 = Conv1D(filters=16, kernel_size=3, activation='relu', padding='same')(conv4)\n",
        "\n",
        "conv6 = Conv1D(filters=32, kernel_size=5, activation='relu', padding='same')(conv5)\n",
        "\n",
        "\n",
        "flatten = Flatten()(conv6)\n",
        "dense = Dense(256, activation='relu')(flatten)\n",
        "output_layer = Dense(y_train.shape[1], activation='softmax')(dense)\n",
        "\n",
        "model = Model(inputs=input_layer, outputs=output_layer)\n",
        "model.compile(optimizer=Adam(learning_rate=0.001), loss='categorical_crossentropy', metrics=['accuracy'])\n",
        "\n",
        "model.summary()\n",
        "\n",
        "history = model.fit(X_train, y_train, epochs=20, batch_size=16, validation_data=(X_test, y_test), verbose=1)\n",
        "\n",
        "_, accuracy = model.evaluate(X_test, y_test, verbose=0)\n",
        "print(f'Accuracy of the 1D CNN model on the test set: {accuracy * 100:.2f}%')\n"
      ],
      "metadata": {
        "id": "AnrxX_aCwA2Z",
        "colab": {
          "base_uri": "https://localhost:8080/"
        },
        "outputId": "ddd5e0ff-9ad1-4ef3-eae6-b6c7fcc74979"
      },
      "execution_count": null,
      "outputs": [
        {
          "output_type": "stream",
          "name": "stdout",
          "text": [
            "Model: \"model_2\"\n",
            "__________________________________________________________________________________________________\n",
            " Layer (type)                Output Shape                 Param #   Connected to                  \n",
            "==================================================================================================\n",
            " input_9 (InputLayer)        [(None, 3, 1)]               0         []                            \n",
            "                                                                                                  \n",
            " conv1d_33 (Conv1D)          (None, 3, 16)                96        ['input_9[0][0]']             \n",
            "                                                                                                  \n",
            " conv1d_34 (Conv1D)          (None, 3, 32)                128       ['input_9[0][0]']             \n",
            "                                                                                                  \n",
            " conv1d_35 (Conv1D)          (None, 3, 16)                64        ['input_9[0][0]']             \n",
            "                                                                                                  \n",
            " max_pooling1d_22 (MaxPooli  (None, 1, 16)                0         ['conv1d_33[0][0]']           \n",
            " ng1D)                                                                                            \n",
            "                                                                                                  \n",
            " max_pooling1d_23 (MaxPooli  (None, 1, 32)                0         ['conv1d_34[0][0]']           \n",
            " ng1D)                                                                                            \n",
            "                                                                                                  \n",
            " max_pooling1d_24 (MaxPooli  (None, 1, 16)                0         ['conv1d_35[0][0]']           \n",
            " ng1D)                                                                                            \n",
            "                                                                                                  \n",
            " concatenate_6 (Concatenate  (None, 1, 64)                0         ['max_pooling1d_22[0][0]',    \n",
            " )                                                                   'max_pooling1d_23[0][0]',    \n",
            "                                                                     'max_pooling1d_24[0][0]']    \n",
            "                                                                                                  \n",
            " conv1d_36 (Conv1D)          (None, 1, 16)                5136      ['concatenate_6[0][0]']       \n",
            "                                                                                                  \n",
            " conv1d_37 (Conv1D)          (None, 1, 16)                784       ['conv1d_36[0][0]']           \n",
            "                                                                                                  \n",
            " conv1d_38 (Conv1D)          (None, 1, 32)                2592      ['conv1d_37[0][0]']           \n",
            "                                                                                                  \n",
            " flatten_3 (Flatten)         (None, 32)                   0         ['conv1d_38[0][0]']           \n",
            "                                                                                                  \n",
            " dense_6 (Dense)             (None, 256)                  8448      ['flatten_3[0][0]']           \n",
            "                                                                                                  \n",
            " dense_7 (Dense)             (None, 6)                    1542      ['dense_6[0][0]']             \n",
            "                                                                                                  \n",
            "==================================================================================================\n",
            "Total params: 18790 (73.40 KB)\n",
            "Trainable params: 18790 (73.40 KB)\n",
            "Non-trainable params: 0 (0.00 Byte)\n",
            "__________________________________________________________________________________________________\n",
            "Epoch 1/20\n",
            "32550/32550 [==============================] - 110s 3ms/step - loss: 1.0837 - accuracy: 0.5652 - val_loss: 1.0473 - val_accuracy: 0.5822\n",
            "Epoch 2/20\n",
            "32550/32550 [==============================] - 106s 3ms/step - loss: 1.0302 - accuracy: 0.5866 - val_loss: 1.0108 - val_accuracy: 0.5941\n",
            "Epoch 3/20\n",
            "32550/32550 [==============================] - 106s 3ms/step - loss: 1.0137 - accuracy: 0.5919 - val_loss: 0.9947 - val_accuracy: 0.5992\n",
            "Epoch 4/20\n",
            "32550/32550 [==============================] - 106s 3ms/step - loss: 1.0056 - accuracy: 0.5942 - val_loss: 0.9990 - val_accuracy: 0.5977\n",
            "Epoch 5/20\n",
            "32550/32550 [==============================] - 106s 3ms/step - loss: 1.0010 - accuracy: 0.5959 - val_loss: 0.9986 - val_accuracy: 0.5982\n",
            "Epoch 6/20\n",
            "32550/32550 [==============================] - 107s 3ms/step - loss: 0.9977 - accuracy: 0.5969 - val_loss: 0.9961 - val_accuracy: 0.5966\n",
            "Epoch 7/20\n",
            "32550/32550 [==============================] - 106s 3ms/step - loss: 0.9958 - accuracy: 0.5970 - val_loss: 0.9939 - val_accuracy: 0.6005\n",
            "Epoch 8/20\n",
            "32550/32550 [==============================] - 108s 3ms/step - loss: 0.9940 - accuracy: 0.5978 - val_loss: 1.0072 - val_accuracy: 0.5957\n",
            "Epoch 9/20\n",
            "32550/32550 [==============================] - 108s 3ms/step - loss: 0.9922 - accuracy: 0.5987 - val_loss: 0.9869 - val_accuracy: 0.5997\n",
            "Epoch 10/20\n",
            "32550/32550 [==============================] - 106s 3ms/step - loss: 0.9903 - accuracy: 0.5991 - val_loss: 0.9853 - val_accuracy: 0.6005\n",
            "Epoch 11/20\n",
            "32550/32550 [==============================] - 107s 3ms/step - loss: 0.9902 - accuracy: 0.5984 - val_loss: 1.0008 - val_accuracy: 0.5960\n",
            "Epoch 12/20\n",
            "32550/32550 [==============================] - 108s 3ms/step - loss: 0.9890 - accuracy: 0.5991 - val_loss: 0.9816 - val_accuracy: 0.6030\n",
            "Epoch 13/20\n",
            "32550/32550 [==============================] - 108s 3ms/step - loss: 0.9880 - accuracy: 0.6000 - val_loss: 0.9833 - val_accuracy: 0.6018\n",
            "Epoch 14/20\n",
            "32550/32550 [==============================] - 109s 3ms/step - loss: 0.9876 - accuracy: 0.5996 - val_loss: 0.9828 - val_accuracy: 0.6016\n",
            "Epoch 15/20\n",
            "32550/32550 [==============================] - 110s 3ms/step - loss: 0.9874 - accuracy: 0.5997 - val_loss: 0.9790 - val_accuracy: 0.6035\n",
            "Epoch 16/20\n",
            "32550/32550 [==============================] - 106s 3ms/step - loss: 0.9870 - accuracy: 0.5998 - val_loss: 0.9849 - val_accuracy: 0.6005\n",
            "Epoch 17/20\n",
            "32550/32550 [==============================] - 107s 3ms/step - loss: 0.9863 - accuracy: 0.6003 - val_loss: 0.9784 - val_accuracy: 0.6044\n",
            "Epoch 18/20\n",
            "32550/32550 [==============================] - 106s 3ms/step - loss: 0.9855 - accuracy: 0.6006 - val_loss: 0.9883 - val_accuracy: 0.6002\n",
            "Epoch 19/20\n",
            "32550/32550 [==============================] - 105s 3ms/step - loss: 0.9860 - accuracy: 0.6003 - val_loss: 0.9902 - val_accuracy: 0.5996\n",
            "Epoch 20/20\n",
            "32550/32550 [==============================] - 108s 3ms/step - loss: 0.9858 - accuracy: 0.6000 - val_loss: 0.9877 - val_accuracy: 0.6003\n",
            "Accuracy of the 1D CNN model on the test set: 60.03%\n"
          ]
        }
      ]
    },
    {
      "cell_type": "code",
      "source": [
        "from tensorflow.keras.layers import Conv1D, Input, Dense, Flatten, concatenate, Activation, Dropout\n",
        "from tensorflow.keras.models import Model\n",
        "from tensorflow.keras.optimizers import Adam\n",
        "from tensorflow.keras.utils import to_categorical\n",
        "\n",
        "input_layer = Input(shape=(X_train.shape[1], 1))\n",
        "\n",
        "conv1 = Conv1D(filters=16, kernel_size=5, activation='relu', padding='same')(input_layer)\n",
        "conv2 = Conv1D(filters=64, kernel_size=3, activation='relu', padding='same')(input_layer)\n",
        "\n",
        "merged = concatenate([conv1, conv2])\n",
        "\n",
        "conv3 = Conv1D(filters=16, kernel_size=3, activation='elu', padding='same')(merged)\n",
        "\n",
        "flatten = Flatten()(conv3)\n",
        "dense = Dense(256, activation='relu')(flatten)\n",
        "output_layer = Dense(y_categorical.shape[1], activation='softmax')(dense)\n",
        "\n",
        "model = Model(inputs=input_layer, outputs=output_layer)\n",
        "model.compile(optimizer=Adam(learning_rate=0.001), loss='categorical_crossentropy', metrics=['accuracy'])\n",
        "\n",
        "model.summary()\n",
        "\n",
        "history = model.fit(X_train, y_train, epochs=20, batch_size=32, validation_data=(X_test, y_test), verbose=1)\n",
        "\n",
        "_, accuracy = model.evaluate(X_test, y_test, verbose=0)\n",
        "print(f'Accuracy of the 1D CNN model on the test set: {accuracy * 100:.2f}%')\n"
      ],
      "metadata": {
        "colab": {
          "base_uri": "https://localhost:8080/"
        },
        "id": "qOx797tUe7vS",
        "outputId": "a7e7cfff-0e7b-4847-c64c-4e98aa5da5d4"
      },
      "execution_count": null,
      "outputs": [
        {
          "output_type": "stream",
          "name": "stdout",
          "text": [
            "Model: \"model_1\"\n",
            "__________________________________________________________________________________________________\n",
            " Layer (type)                Output Shape                 Param #   Connected to                  \n",
            "==================================================================================================\n",
            " input_13 (InputLayer)       [(None, 3, 1)]               0         []                            \n",
            "                                                                                                  \n",
            " conv1d_30 (Conv1D)          (None, 3, 16)                96        ['input_13[0][0]']            \n",
            "                                                                                                  \n",
            " conv1d_31 (Conv1D)          (None, 3, 64)                256       ['input_13[0][0]']            \n",
            "                                                                                                  \n",
            " concatenate_8 (Concatenate  (None, 3, 80)                0         ['conv1d_30[0][0]',           \n",
            " )                                                                   'conv1d_31[0][0]']           \n",
            "                                                                                                  \n",
            " conv1d_32 (Conv1D)          (None, 3, 16)                3856      ['concatenate_8[0][0]']       \n",
            "                                                                                                  \n",
            " flatten_2 (Flatten)         (None, 48)                   0         ['conv1d_32[0][0]']           \n",
            "                                                                                                  \n",
            " dense_4 (Dense)             (None, 256)                  12544     ['flatten_2[0][0]']           \n",
            "                                                                                                  \n",
            " dense_5 (Dense)             (None, 6)                    1542      ['dense_4[0][0]']             \n",
            "                                                                                                  \n",
            "==================================================================================================\n",
            "Total params: 18294 (71.46 KB)\n",
            "Trainable params: 18294 (71.46 KB)\n",
            "Non-trainable params: 0 (0.00 Byte)\n",
            "__________________________________________________________________________________________________\n",
            "Epoch 1/20\n",
            "16275/16275 [==============================] - 64s 4ms/step - loss: 1.0733 - accuracy: 0.5712 - val_loss: 1.0240 - val_accuracy: 0.5894\n",
            "Epoch 2/20\n",
            "16275/16275 [==============================] - 69s 4ms/step - loss: 1.0216 - accuracy: 0.5893 - val_loss: 1.0051 - val_accuracy: 0.5941\n",
            "Epoch 3/20\n",
            "16275/16275 [==============================] - 68s 4ms/step - loss: 1.0085 - accuracy: 0.5935 - val_loss: 0.9962 - val_accuracy: 0.5988\n",
            "Epoch 4/20\n",
            "16275/16275 [==============================] - 65s 4ms/step - loss: 1.0018 - accuracy: 0.5961 - val_loss: 0.9909 - val_accuracy: 0.5994\n",
            "Epoch 5/20\n",
            "16275/16275 [==============================] - 62s 4ms/step - loss: 0.9972 - accuracy: 0.5970 - val_loss: 0.9867 - val_accuracy: 0.6004\n",
            "Epoch 6/20\n",
            "16275/16275 [==============================] - 72s 4ms/step - loss: 0.9932 - accuracy: 0.5980 - val_loss: 0.9898 - val_accuracy: 0.5960\n",
            "Epoch 7/20\n",
            "16275/16275 [==============================] - 66s 4ms/step - loss: 0.9904 - accuracy: 0.6000 - val_loss: 0.9893 - val_accuracy: 0.5998\n",
            "Epoch 8/20\n",
            "16275/16275 [==============================] - 69s 4ms/step - loss: 0.9881 - accuracy: 0.5999 - val_loss: 0.9886 - val_accuracy: 0.5994\n",
            "Epoch 9/20\n",
            "16275/16275 [==============================] - 64s 4ms/step - loss: 0.9864 - accuracy: 0.6008 - val_loss: 0.9904 - val_accuracy: 0.6005\n",
            "Epoch 10/20\n",
            "16275/16275 [==============================] - 71s 4ms/step - loss: 0.9846 - accuracy: 0.6015 - val_loss: 0.9800 - val_accuracy: 0.6032\n",
            "Epoch 11/20\n",
            "16275/16275 [==============================] - 61s 4ms/step - loss: 0.9831 - accuracy: 0.6014 - val_loss: 0.9834 - val_accuracy: 0.6002\n",
            "Epoch 12/20\n",
            "16275/16275 [==============================] - 74s 5ms/step - loss: 0.9818 - accuracy: 0.6016 - val_loss: 0.9761 - val_accuracy: 0.6046\n",
            "Epoch 13/20\n",
            "16275/16275 [==============================] - 72s 4ms/step - loss: 0.9805 - accuracy: 0.6025 - val_loss: 0.9791 - val_accuracy: 0.6036\n",
            "Epoch 14/20\n",
            "16275/16275 [==============================] - 65s 4ms/step - loss: 0.9796 - accuracy: 0.6027 - val_loss: 0.9778 - val_accuracy: 0.6033\n",
            "Epoch 15/20\n",
            "16275/16275 [==============================] - 62s 4ms/step - loss: 0.9787 - accuracy: 0.6028 - val_loss: 0.9751 - val_accuracy: 0.6054\n",
            "Epoch 16/20\n",
            "16275/16275 [==============================] - 71s 4ms/step - loss: 0.9785 - accuracy: 0.6029 - val_loss: 0.9749 - val_accuracy: 0.6039\n",
            "Epoch 17/20\n",
            "16275/16275 [==============================] - 63s 4ms/step - loss: 0.9774 - accuracy: 0.6032 - val_loss: 0.9757 - val_accuracy: 0.6060\n",
            "Epoch 18/20\n",
            "16275/16275 [==============================] - 64s 4ms/step - loss: 0.9770 - accuracy: 0.6035 - val_loss: 0.9763 - val_accuracy: 0.6053\n",
            "Epoch 19/20\n",
            "16275/16275 [==============================] - 63s 4ms/step - loss: 0.9762 - accuracy: 0.6036 - val_loss: 0.9790 - val_accuracy: 0.6032\n",
            "Epoch 20/20\n",
            "16275/16275 [==============================] - 74s 5ms/step - loss: 0.9759 - accuracy: 0.6036 - val_loss: 0.9720 - val_accuracy: 0.6055\n",
            "Accuracy of the 1D CNN model on the test set: 60.55%\n"
          ]
        }
      ]
    },
    {
      "cell_type": "markdown",
      "source": [
        "CNN+LSTM"
      ],
      "metadata": {
        "id": "lf3UxB9EwBPN"
      }
    },
    {
      "cell_type": "code",
      "source": [
        "import numpy as np\n",
        "import pandas as pd\n",
        "from sklearn.model_selection import train_test_split\n",
        "from sklearn.preprocessing import StandardScaler, LabelEncoder\n",
        "from sklearn.impute import SimpleImputer\n",
        "from tensorflow.keras.models import Model\n",
        "from tensorflow.keras.layers import Input, Conv1D, LSTM, Flatten, Dense, Dropout, Bidirectional\n",
        "from tensorflow.keras.optimizers import Adam\n",
        "from tensorflow.keras.utils import to_categorical\n",
        "\n",
        "imputer = SimpleImputer(strategy='mean')\n",
        "scaler = StandardScaler()\n",
        "\n",
        "X = combined_data[['x-accel', 'y-accel', 'z-accel']].values\n",
        "y = combined_data['activity'].values\n",
        "\n",
        "X_imputed = imputer.fit_transform(X)\n",
        "X_scaled = scaler.fit_transform(X_imputed)\n",
        "X_scaled = np.expand_dims(X_scaled, axis=2)\n",
        "\n",
        "label_encoder = LabelEncoder()\n",
        "y_encoded = label_encoder.fit_transform(y)\n",
        "y_categorical = to_categorical(y_encoded)\n",
        "\n",
        "X_train, X_test, y_train, y_test = train_test_split(X_scaled, y_categorical, test_size=0.3, random_state=42)\n",
        "\n",
        "input_layer = Input(shape=(X_train.shape[1], 1))\n",
        "\n",
        "conv_layer = Conv1D(filters=64, kernel_size=3, activation='relu', padding='same')(input_layer)\n",
        "bilstm_layer = Bidirectional(LSTM(50, return_sequences=False))(conv_layer)\n",
        "flatten_layer = Flatten()(bilstm_layer)\n",
        "output_layer = Dense(y_categorical.shape[1], activation='softmax')(flatten_layer)\n",
        "\n",
        "model = Model(inputs=input_layer, outputs=output_layer)\n",
        "model.compile(optimizer=Adam(learning_rate=0.001), loss='categorical_crossentropy', metrics=['accuracy'])\n",
        "\n",
        "model.fit(X_train, y_train, epochs=20, batch_size=32, validation_data=(X_test, y_test))\n",
        "\n",
        "_, accuracy = model.evaluate(X_test, y_test)\n",
        "print(f'Accuracy of the CNN+BiLSTM model: {accuracy * 100:.2f}%')\n",
        "\n",
        "feature_model = Model(inputs=model.input, outputs=model.layers[-3].output)\n",
        "features_train = feature_model.predict(X_train)\n",
        "features_test = feature_model.predict(X_test)\n"
      ],
      "metadata": {
        "colab": {
          "base_uri": "https://localhost:8080/"
        },
        "id": "8aDHUN_sv95o",
        "outputId": "83875843-1e8f-4b0b-8875-46401921ee5f"
      },
      "execution_count": null,
      "outputs": [
        {
          "output_type": "stream",
          "name": "stdout",
          "text": [
            "Epoch 1/20\n",
            "16275/16275 [==============================] - 131s 8ms/step - loss: 1.0773 - accuracy: 0.5688 - val_loss: 1.0240 - val_accuracy: 0.5895\n",
            "Epoch 2/20\n",
            "16275/16275 [==============================] - 130s 8ms/step - loss: 1.0068 - accuracy: 0.5945 - val_loss: 0.9938 - val_accuracy: 0.5991\n",
            "Epoch 3/20\n",
            "16275/16275 [==============================] - 123s 8ms/step - loss: 0.9919 - accuracy: 0.5990 - val_loss: 0.9847 - val_accuracy: 0.6021\n",
            "Epoch 4/20\n",
            "16275/16275 [==============================] - 124s 8ms/step - loss: 0.9845 - accuracy: 0.6013 - val_loss: 0.9790 - val_accuracy: 0.6045\n",
            "Epoch 5/20\n",
            "16275/16275 [==============================] - 123s 8ms/step - loss: 0.9787 - accuracy: 0.6036 - val_loss: 0.9743 - val_accuracy: 0.6036\n",
            "Epoch 6/20\n",
            "16275/16275 [==============================] - 126s 8ms/step - loss: 0.9748 - accuracy: 0.6039 - val_loss: 0.9744 - val_accuracy: 0.6054\n",
            "Epoch 7/20\n",
            "16275/16275 [==============================] - 129s 8ms/step - loss: 0.9714 - accuracy: 0.6058 - val_loss: 0.9653 - val_accuracy: 0.6076\n",
            "Epoch 8/20\n",
            "16275/16275 [==============================] - 124s 8ms/step - loss: 0.9689 - accuracy: 0.6065 - val_loss: 0.9882 - val_accuracy: 0.6011\n",
            "Epoch 9/20\n",
            "16275/16275 [==============================] - 133s 8ms/step - loss: 0.9666 - accuracy: 0.6066 - val_loss: 0.9666 - val_accuracy: 0.6069\n",
            "Epoch 10/20\n",
            "16275/16275 [==============================] - 127s 8ms/step - loss: 0.9648 - accuracy: 0.6072 - val_loss: 0.9647 - val_accuracy: 0.6077\n",
            "Epoch 11/20\n",
            "16275/16275 [==============================] - 124s 8ms/step - loss: 0.9630 - accuracy: 0.6085 - val_loss: 0.9643 - val_accuracy: 0.6080\n",
            "Epoch 12/20\n",
            "16275/16275 [==============================] - 122s 7ms/step - loss: 0.9614 - accuracy: 0.6085 - val_loss: 0.9618 - val_accuracy: 0.6083\n",
            "Epoch 13/20\n",
            "16275/16275 [==============================] - 113s 7ms/step - loss: 0.9601 - accuracy: 0.6086 - val_loss: 0.9600 - val_accuracy: 0.6094\n",
            "Epoch 14/20\n",
            "16275/16275 [==============================] - 114s 7ms/step - loss: 0.9588 - accuracy: 0.6095 - val_loss: 0.9624 - val_accuracy: 0.6084\n",
            "Epoch 15/20\n",
            "16275/16275 [==============================] - 116s 7ms/step - loss: 0.9574 - accuracy: 0.6102 - val_loss: 0.9599 - val_accuracy: 0.6091\n",
            "Epoch 16/20\n",
            "16275/16275 [==============================] - 117s 7ms/step - loss: 0.9564 - accuracy: 0.6106 - val_loss: 0.9627 - val_accuracy: 0.6052\n",
            "Epoch 17/20\n",
            "16275/16275 [==============================] - 117s 7ms/step - loss: 0.9555 - accuracy: 0.6106 - val_loss: 0.9611 - val_accuracy: 0.6088\n",
            "Epoch 18/20\n",
            "16275/16275 [==============================] - 119s 7ms/step - loss: 0.9545 - accuracy: 0.6103 - val_loss: 0.9567 - val_accuracy: 0.6094\n",
            "Epoch 19/20\n",
            "16275/16275 [==============================] - 118s 7ms/step - loss: 0.9537 - accuracy: 0.6112 - val_loss: 0.9584 - val_accuracy: 0.6101\n",
            "Epoch 20/20\n",
            "16275/16275 [==============================] - 114s 7ms/step - loss: 0.9529 - accuracy: 0.6108 - val_loss: 0.9582 - val_accuracy: 0.6095\n",
            "6975/6975 [==============================] - 19s 3ms/step - loss: 0.9582 - accuracy: 0.6095\n",
            "Accuracy of the CNN+BiLSTM model: 60.95%\n",
            "16275/16275 [==============================] - 46s 3ms/step\n",
            "6975/6975 [==============================] - 23s 3ms/step\n"
          ]
        }
      ]
    },
    {
      "cell_type": "code",
      "source": [
        "from tensorflow.keras.layers import Conv1D, Input, Dense, Flatten, concatenate, Activation, Dropout\n",
        "from tensorflow.keras.models import Model\n",
        "from tensorflow.keras.optimizers import Adam\n",
        "from tensorflow.keras.utils import to_categorical\n",
        "\n",
        "input_layer = Input(shape=(X_train.shape[1], 1))\n",
        "\n",
        "conv1 = Conv1D(filters=32, kernel_size=3, activation='relu', padding='same')(input_layer)\n",
        "conv2 = Conv1D(filters=64, kernel_size=3, activation='elu', padding='same')(input_layer)\n",
        "conv3 = Conv1D(filters=32, kernel_size=3, activation='relu', padding='same')(input_layer)\n",
        "\n",
        "merged = concatenate([conv1, conv2,conv3])\n",
        "\n",
        "conv4 = Conv1D(filters=16, kernel_size=5, activation='relu', padding='same')(merged)\n",
        "conv5 = Conv1D(filters=64, kernel_size=5, activation='relu', padding='same')(input_layer)\n",
        "conv6 = Conv1D(filters=32, kernel_size=3, activation='relu', padding='same')(input_layer)\n",
        "\n",
        "flatten = Flatten()(conv3)\n",
        "dense = Dense(256, activation='relu')(flatten)\n",
        "output_layer = Dense(y_categorical.shape[1], activation='softmax')(dense)\n",
        "\n",
        "model = Model(inputs=input_layer, outputs=output_layer)\n",
        "model.compile(optimizer=Adam(learning_rate=0.001), loss='categorical_crossentropy', metrics=['accuracy'])\n",
        "\n",
        "model.summary()\n",
        "\n",
        "history = model.fit(X_train, y_train, epochs=30, batch_size=32, validation_data=(X_test, y_test), verbose=1)\n",
        "\n",
        "_, accuracy = model.evaluate(X_test, y_test, verbose=0)\n",
        "print(f'Accuracy of the 1D CNN model on the test set: {accuracy * 100:.2f}%')\n"
      ],
      "metadata": {
        "colab": {
          "base_uri": "https://localhost:8080/"
        },
        "id": "ykSOQeKnAd32",
        "outputId": "61ef520e-0a61-4da1-a0d1-b7156e8dbd9f"
      },
      "execution_count": null,
      "outputs": [
        {
          "output_type": "stream",
          "name": "stdout",
          "text": [
            "Model: \"model\"\n",
            "_________________________________________________________________\n",
            " Layer (type)                Output Shape              Param #   \n",
            "=================================================================\n",
            " input_2 (InputLayer)        [(None, 3, 1)]            0         \n",
            "                                                                 \n",
            " conv1d_9 (Conv1D)           (None, 3, 32)             128       \n",
            "                                                                 \n",
            " flatten_2 (Flatten)         (None, 96)                0         \n",
            "                                                                 \n",
            " dense_3 (Dense)             (None, 256)               24832     \n",
            "                                                                 \n",
            " dense_4 (Dense)             (None, 6)                 1542      \n",
            "                                                                 \n",
            "=================================================================\n",
            "Total params: 26502 (103.52 KB)\n",
            "Trainable params: 26502 (103.52 KB)\n",
            "Non-trainable params: 0 (0.00 Byte)\n",
            "_________________________________________________________________\n",
            "Epoch 1/30\n",
            "16275/16275 [==============================] - 51s 3ms/step - loss: 1.0936 - accuracy: 0.5657 - val_loss: 1.0333 - val_accuracy: 0.5863\n",
            "Epoch 2/30\n",
            "16275/16275 [==============================] - 50s 3ms/step - loss: 1.0280 - accuracy: 0.5887 - val_loss: 1.0197 - val_accuracy: 0.5911\n",
            "Epoch 3/30\n",
            "16275/16275 [==============================] - 51s 3ms/step - loss: 1.0124 - accuracy: 0.5939 - val_loss: 1.0036 - val_accuracy: 0.5948\n",
            "Epoch 4/30\n",
            "16275/16275 [==============================] - 61s 4ms/step - loss: 1.0046 - accuracy: 0.5957 - val_loss: 1.0068 - val_accuracy: 0.5978\n",
            "Epoch 5/30\n",
            "16275/16275 [==============================] - 50s 3ms/step - loss: 0.9992 - accuracy: 0.5978 - val_loss: 0.9967 - val_accuracy: 0.6005\n",
            "Epoch 6/30\n",
            "16275/16275 [==============================] - 60s 4ms/step - loss: 0.9951 - accuracy: 0.5988 - val_loss: 0.9889 - val_accuracy: 0.6015\n",
            "Epoch 7/30\n",
            "16275/16275 [==============================] - 53s 3ms/step - loss: 0.9919 - accuracy: 0.5997 - val_loss: 0.9898 - val_accuracy: 0.5994\n",
            "Epoch 8/30\n",
            "16275/16275 [==============================] - 60s 4ms/step - loss: 0.9897 - accuracy: 0.6010 - val_loss: 0.9925 - val_accuracy: 0.5998\n",
            "Epoch 9/30\n",
            "16275/16275 [==============================] - 49s 3ms/step - loss: 0.9876 - accuracy: 0.6016 - val_loss: 0.9826 - val_accuracy: 0.6024\n",
            "Epoch 10/30\n",
            "16275/16275 [==============================] - 61s 4ms/step - loss: 0.9862 - accuracy: 0.6020 - val_loss: 0.9883 - val_accuracy: 0.6037\n",
            "Epoch 11/30\n",
            "16275/16275 [==============================] - 49s 3ms/step - loss: 0.9845 - accuracy: 0.6021 - val_loss: 0.9788 - val_accuracy: 0.6051\n",
            "Epoch 12/30\n",
            "16275/16275 [==============================] - 62s 4ms/step - loss: 0.9836 - accuracy: 0.6026 - val_loss: 0.9847 - val_accuracy: 0.6025\n",
            "Epoch 13/30\n",
            "16275/16275 [==============================] - 60s 4ms/step - loss: 0.9820 - accuracy: 0.6030 - val_loss: 0.9794 - val_accuracy: 0.6046\n",
            "Epoch 14/30\n",
            "16275/16275 [==============================] - 50s 3ms/step - loss: 0.9814 - accuracy: 0.6032 - val_loss: 0.9778 - val_accuracy: 0.6039\n",
            "Epoch 15/30\n",
            "16275/16275 [==============================] - 49s 3ms/step - loss: 0.9805 - accuracy: 0.6036 - val_loss: 0.9842 - val_accuracy: 0.6020\n",
            "Epoch 16/30\n",
            "16275/16275 [==============================] - 52s 3ms/step - loss: 0.9795 - accuracy: 0.6037 - val_loss: 0.9802 - val_accuracy: 0.6043\n",
            "Epoch 17/30\n",
            "16275/16275 [==============================] - 60s 4ms/step - loss: 0.9789 - accuracy: 0.6037 - val_loss: 0.9751 - val_accuracy: 0.6072\n",
            "Epoch 18/30\n",
            "16275/16275 [==============================] - 51s 3ms/step - loss: 0.9781 - accuracy: 0.6041 - val_loss: 0.9754 - val_accuracy: 0.6065\n",
            "Epoch 19/30\n",
            "16275/16275 [==============================] - 50s 3ms/step - loss: 0.9773 - accuracy: 0.6047 - val_loss: 0.9781 - val_accuracy: 0.6046\n",
            "Epoch 20/30\n",
            "16275/16275 [==============================] - 60s 4ms/step - loss: 0.9767 - accuracy: 0.6048 - val_loss: 0.9797 - val_accuracy: 0.6049\n",
            "Epoch 21/30\n",
            "16275/16275 [==============================] - 49s 3ms/step - loss: 0.9763 - accuracy: 0.6045 - val_loss: 0.9774 - val_accuracy: 0.6053\n",
            "Epoch 22/30\n",
            "16275/16275 [==============================] - 52s 3ms/step - loss: 0.9759 - accuracy: 0.6052 - val_loss: 0.9742 - val_accuracy: 0.6057\n",
            "Epoch 23/30\n",
            "16275/16275 [==============================] - 49s 3ms/step - loss: 0.9755 - accuracy: 0.6050 - val_loss: 0.9803 - val_accuracy: 0.6042\n",
            "Epoch 24/30\n",
            "16275/16275 [==============================] - 60s 4ms/step - loss: 0.9749 - accuracy: 0.6052 - val_loss: 0.9756 - val_accuracy: 0.6063\n",
            "Epoch 25/30\n",
            "16275/16275 [==============================] - 51s 3ms/step - loss: 0.9748 - accuracy: 0.6049 - val_loss: 0.9720 - val_accuracy: 0.6064\n",
            "Epoch 26/30\n",
            "16275/16275 [==============================] - 52s 3ms/step - loss: 0.9743 - accuracy: 0.6056 - val_loss: 0.9777 - val_accuracy: 0.6055\n",
            "Epoch 27/30\n",
            "16275/16275 [==============================] - 60s 4ms/step - loss: 0.9742 - accuracy: 0.6056 - val_loss: 0.9738 - val_accuracy: 0.6067\n",
            "Epoch 28/30\n",
            "16275/16275 [==============================] - 60s 4ms/step - loss: 0.9739 - accuracy: 0.6056 - val_loss: 0.9800 - val_accuracy: 0.6035\n",
            "Epoch 29/30\n",
            "16275/16275 [==============================] - 51s 3ms/step - loss: 0.9737 - accuracy: 0.6062 - val_loss: 0.9773 - val_accuracy: 0.6064\n",
            "Epoch 30/30\n",
            "16275/16275 [==============================] - 60s 4ms/step - loss: 0.9732 - accuracy: 0.6056 - val_loss: 0.9733 - val_accuracy: 0.6059\n",
            "Accuracy of the 1D CNN model on the test set: 60.59%\n"
          ]
        }
      ]
    }
  ]
}